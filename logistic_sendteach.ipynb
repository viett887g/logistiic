{
  "nbformat": 4,
  "nbformat_minor": 0,
  "metadata": {
    "colab": {
      "provenance": [],
      "authorship_tag": "ABX9TyMHbSg9FvjcOoKfad3gUbkB",
      "include_colab_link": true
    },
    "kernelspec": {
      "name": "python3",
      "display_name": "Python 3"
    },
    "language_info": {
      "name": "python"
    }
  },
  "cells": [
    {
      "cell_type": "markdown",
      "metadata": {
        "id": "view-in-github",
        "colab_type": "text"
      },
      "source": [
        "<a href=\"https://colab.research.google.com/github/viett887g/logistiic/blob/main/logistic_sendteach.ipynb\" target=\"_parent\"><img src=\"https://colab.research.google.com/assets/colab-badge.svg\" alt=\"Open In Colab\"/></a>"
      ]
    },
    {
      "cell_type": "code",
      "execution_count": 256,
      "metadata": {
        "id": "wPanVcuYtASY"
      },
      "outputs": [],
      "source": [
        "import numpy as np\n",
        "from sklearn.linear_model import LogisticRegression\n",
        "from sklearn import preprocessing\n",
        "import pandas as pd\n",
        "from sklearn.model_selection import train_test_split\n",
        "from sklearn.preprocessing import MinMaxScaler\n",
        "from scipy import optimize"
      ]
    },
    {
      "cell_type": "code",
      "source": [
        "from google.colab import drive\n",
        "drive.mount('/content/drive')"
      ],
      "metadata": {
        "id": "V1oeQynptwg-",
        "colab": {
          "base_uri": "https://localhost:8080/"
        },
        "outputId": "2e8677c2-27d4-4fc3-aa51-02c9d2b40462"
      },
      "execution_count": 257,
      "outputs": [
        {
          "output_type": "stream",
          "name": "stdout",
          "text": [
            "Drive already mounted at /content/drive; to attempt to forcibly remount, call drive.mount(\"/content/drive\", force_remount=True).\n"
          ]
        }
      ]
    },
    {
      "cell_type": "code",
      "source": [
        "def readfile():\n",
        "  D= pd.read_csv(\"/content/drive/MyDrive/logisticsregres_vayvon.csv\")\n",
        "  D=preprocessing.MinMaxScaler().fit_transform(D)\n",
        "  D=np.array(D)\n",
        "  X = D[:,:-1]\n",
        "  y = D[:, -1]\n",
        "  return X, y\n"
      ],
      "metadata": {
        "id": "ABskkziourAV"
      },
      "execution_count": 258,
      "outputs": []
    },
    {
      "cell_type": "code",
      "source": [
        "def sigmoid(z):\n",
        "    # Hàm sigmoid\n",
        "    return 1 / (1 + np.exp(-z))\n",
        "\n",
        "def cross_entropy_loss(y, y_pred):\n",
        "    # Hàm tính Cross-Entropy Loss\n",
        "    return -np.mean(y * np.log(y_pred) + (1 - y) * np.log(1 - y_pred))"
      ],
      "metadata": {
        "id": "shIbRdUHwbOW"
      },
      "execution_count": 259,
      "outputs": []
    },
    {
      "cell_type": "code",
      "source": [
        "def gradient_descent(X, y, learning_rate=0.01, num_iterations=1000):\n",
        "    # Khởi tạo các tham số\n",
        "    num_samples, num_features = X.shape\n",
        "    weights = np.zeros(num_features)\n",
        "    bias = 0\n",
        "\n",
        "    # Lặp lại các bước gradient descent\n",
        "    for iteration in range(num_iterations):\n",
        "        # Tính các giá trị dự đoán\n",
        "        y_pred = sigmoid(np.dot(X, weights) + bias)\n",
        "\n",
        "        # Tính gradient của hàm loss\n",
        "        dw = np.dot(X.T, (y_pred - y)) / num_samples\n",
        "        db = np.mean(y_pred - y)\n",
        "\n",
        "        # Cập nhật các tham số theo hướng ngược của gradient\n",
        "        weights -= learning_rate * dw\n",
        "        bias -= learning_rate * db\n",
        "\n",
        "    return weights, bias ,db"
      ],
      "metadata": {
        "id": "QuVCG6-w3SXN"
      },
      "execution_count": 267,
      "outputs": []
    },
    {
      "cell_type": "code",
      "source": [
        "def main():\n",
        "  X,y= readfile()\n",
        "  X_train, X_test, y_train, y_test = train_test_split(X, y,test_size=0.30,random_state=15)\n",
        "  weights, bias,loss = gradient_descent(X, y)\n",
        "  print('Trong so w toi uu la L-BFGS-B: ', weights)\n",
        "  print('tGia tri Loss toi uu: ',loss)\n",
        "\n",
        "\n",
        "\n",
        "if __name__ == \"__main__\":\n",
        "  main()"
      ],
      "metadata": {
        "id": "Xy859bSkxziw",
        "colab": {
          "base_uri": "https://localhost:8080/"
        },
        "outputId": "8ea68333-3781-4eec-a544-0b721f993bd3"
      },
      "execution_count": 270,
      "outputs": [
        {
          "output_type": "stream",
          "name": "stdout",
          "text": [
            "Trong so w toi uu la L-BFGS-B:  [0.1478324 0.9202042]\n",
            "tGia tri Loss toi uu:  0.0319518391535618\n"
          ]
        }
      ]
    }
  ]
}